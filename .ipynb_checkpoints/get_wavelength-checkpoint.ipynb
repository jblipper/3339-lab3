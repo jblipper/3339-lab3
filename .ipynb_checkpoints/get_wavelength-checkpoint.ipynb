{
 "cells": [
  {
   "cell_type": "code",
   "execution_count": 5,
   "id": "5aa25262",
   "metadata": {},
   "outputs": [],
   "source": [
    "import numpy as np\n",
    "import matplotlib.pyplot as plt\n",
    "from scipy.optimize import curve_fit\n",
    "from scipy.signal import find_peaks\n",
    "import os\n",
    "import pandas as pd\n",
    "\n",
    "plt.rcParams.update({'font.size': 16})"
   ]
  },
  {
   "cell_type": "code",
   "execution_count": 22,
   "id": "730d6ec0",
   "metadata": {},
   "outputs": [
    {
     "name": "stdout",
     "output_type": "stream",
     "text": [
      "624.94\n"
     ]
    },
    {
     "data": {
      "image/png": "[encoded data removed]",
      "text/plain": [
       "<Figure size 432x288 with 1 Axes>"
      ]
     },
     "metadata": {
      "needs_background": "light"
     },
     "output_type": "display_data"
    },
    {
     "data": {
      "text/plain": [
       "624.94"
      ]
     },
     "execution_count": 22,
     "metadata": {},
     "output_type": "execute_result"
    }
   ],
   "source": [
    "f = \"./ledSpectralData/1a-red.csv\"\n",
    "\n",
    "def get_wavelength(f):\n",
    "    data = np.genfromtxt(f, delimiter=\",\") \n",
    "    peak = find_peaks(data[:,1], height=2000, threshold=10)[0][0]\n",
    "    print(data[:,0][peak])\n",
    "    plt.plot(data[:,0], data[:,1], \".\")\n",
    "    plt.show()\n",
    "    return data[:,0][peak]\n",
    "\n",
    "get_wavelength(f)"
   ]
  },
  {
   "cell_type": "code",
   "execution_count": 20,
   "id": "6159f0b3",
   "metadata": {},
   "outputs": [
    {
     "name": "stdout",
     "output_type": "stream",
     "text": [
      "./ledSpectralData/6a-green.csv\n",
      "./ledSpectralData/5a-yellowgreen.csv\n",
      "./ledSpectralData/5a-yellowgreen.csv\n",
      "./ledSpectralData/4a-yellow.csv\n",
      "./ledSpectralData/1a-red.csv\n",
      "./ledSpectralData/3b-orange.csv\n",
      "./ledSpectralData/7a-blue.csv\n",
      "./ledSpectralData/1b-red.csv\n",
      "./ledSpectralData/5b-yellowgreen.csv\n",
      "./ledSpectralData/5b-yellowgreen.csv\n",
      "./ledSpectralData/7b-blue.csv\n",
      "./ledSpectralData/8b-uv.csv\n",
      "./ledSpectralData/3a-orange.csv\n",
      "./ledSpectralData/4b-yellow.csv\n",
      "./ledSpectralData/8a-uv.csv\n",
      "./ledSpectralData/6b-green.csv\n"
     ]
    }
   ],
   "source": [
    "n_runs = 2\n",
    "w = np.zeros((7, n_runs))\n",
    "\n",
    "n = 0\n",
    "for i in os.listdir(\"./ledSpectralData/\"):\n",
    "    f = os.path.join(\"./ledSpectralData/\", i)\n",
    "\n",
    "    if \"red.csv\" in f:\n",
    "        get_wavelength(f)\n",
    "    if \"orange.csv\" in f:\n",
    "        get_wavelength(f)\n",
    "    if \"yellow.csv\" in f:\n",
    "        get_wavelength(f)\n",
    "    if \"yellowgreen.csv\" in f:\n",
    "        get_wavelength(f)\n",
    "    if \"green.csv\" in f:\n",
    "        get_wavelength(f)\n",
    "    if \"blue.csv\" in f:\n",
    "        get_wavelength(f)\n",
    "    if \"uv.csv\" in f:\n",
    "        get_wavelength(f)"
   ]
  },
  {
   "cell_type": "code",
   "execution_count": null,
   "id": "e2eeb0fe",
   "metadata": {},
   "outputs": [],
   "source": [
    "LEDs = ['yellow', 'red', 'green2', 'blue2', 'blue1', 'orange', 'green1']"
   ]
  }
 ],
 "metadata": {
  "kernelspec": {
   "display_name": "Python 3 (ipykernel)",
   "language": "python",
   "name": "python3"
  },
  "language_info": {
   "codemirror_mode": {
    "name": "ipython",
    "version": 3
   },
   "file_extension": ".py",
   "mimetype": "text/x-python",
   "name": "python",
   "nbconvert_exporter": "python",
   "pygments_lexer": "ipython3",
   "version": "3.8.5"
  }
 },
 "nbformat": 4,
 "nbformat_minor": 5
}
